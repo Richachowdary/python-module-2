{
  "nbformat": 4,
  "nbformat_minor": 0,
  "metadata": {
    "colab": {
      "name": "Copy of Untitled7.ipynb",
      "provenance": [],
      "authorship_tag": "ABX9TyPY9M+qFAlVG0gkmw5bq1on",
      "include_colab_link": true
    },
    "kernelspec": {
      "name": "python3",
      "display_name": "Python 3"
    }
  },
  "cells": [
    {
      "cell_type": "markdown",
      "metadata": {
        "id": "view-in-github",
        "colab_type": "text"
      },
      "source": [
        "<a href=\"https://colab.research.google.com/github/Richachowdary/python-module-2/blob/master/Copy_of_Untitled7.ipynb\" target=\"_parent\"><img src=\"https://colab.research.google.com/assets/colab-badge.svg\" alt=\"Open In Colab\"/></a>"
      ]
    },
    {
      "cell_type": "code",
      "metadata": {
        "id": "zqd2C2DTY3NW",
        "colab_type": "code",
        "colab": {}
      },
      "source": [
        "Assignment 2"
      ],
      "execution_count": null,
      "outputs": []
    },
    {
      "cell_type": "code",
      "metadata": {
        "id": "lKpS7kR1ZG8h",
        "colab_type": "code",
        "colab": {}
      },
      "source": [
        "Question 1"
      ],
      "execution_count": null,
      "outputs": []
    },
    {
      "cell_type": "code",
      "metadata": {
        "id": "KBA29RTSZIn_",
        "colab_type": "code",
        "colab": {
          "base_uri": "https://localhost:8080/",
          "height": 34
        },
        "outputId": "77f69336-0e33-4fb9-edc1-398b3ce381b2"
      },
      "source": [
        " def maximum(a, b, c):\n",
        "  if (a >= b) and (a >= c):\n",
        "    largest = a\n",
        "  elif ( b >= a) and (b >= c):\n",
        "    largest = b\n",
        "  else:\n",
        "    largest = c\n",
        "  return largest \n",
        "a = 10\n",
        "b = 14\n",
        "c = 12  \n",
        "print(maximum(a, b, c))"
      ],
      "execution_count": null,
      "outputs": [
        {
          "output_type": "stream",
          "text": [
            "14\n"
          ],
          "name": "stdout"
        }
      ]
    },
    {
      "cell_type": "code",
      "metadata": {
        "id": "YNQ1qGoJZM1Y",
        "colab_type": "code",
        "colab": {}
      },
      "source": [
        "Question 2"
      ],
      "execution_count": null,
      "outputs": []
    },
    {
      "cell_type": "code",
      "metadata": {
        "id": "E4ZVtdcVZOFD",
        "colab_type": "code",
        "colab": {
          "base_uri": "https://localhost:8080/",
          "height": 34
        },
        "outputId": "106f5d17-ec43-4eda-8dfd-6b6785259156"
      },
      "source": [
        " txt = \"Hello World\"[::-1]\n",
        "print(txt)"
      ],
      "execution_count": null,
      "outputs": [
        {
          "output_type": "stream",
          "text": [
            "dlroW olleH\n"
          ],
          "name": "stdout"
        }
      ]
    },
    {
      "cell_type": "code",
      "metadata": {
        "id": "bW6wyCnZZR_N",
        "colab_type": "code",
        "colab": {}
      },
      "source": [
        "Question 3"
      ],
      "execution_count": null,
      "outputs": []
    },
    {
      "cell_type": "code",
      "metadata": {
        "id": "djkvgdwUZaci",
        "colab_type": "code",
        "colab": {
          "base_uri": "https://localhost:8080/",
          "height": 34
        },
        "outputId": "b0ec397c-dc18-4414-b663-3d91d0a38bb3"
      },
      "source": [
        " num=11\n",
        "if num > 1:\n",
        "  for i in range(2, num):\n",
        "    if (num % i) == 0:\n",
        "      print(num, \"is not a prime number\")\n",
        "      break\n",
        "  else:\n",
        "      print(num, \"is a prime number\")\n",
        "else:\n",
        "   print(num, \"is not a prime number\")"
      ],
      "execution_count": null,
      "outputs": [
        {
          "output_type": "stream",
          "text": [
            "11 is a prime number\n"
          ],
          "name": "stdout"
        }
      ]
    },
    {
      "cell_type": "code",
      "metadata": {
        "id": "i9ZTt1lNZfJH",
        "colab_type": "code",
        "colab": {}
      },
      "source": [
        "Question 4"
      ],
      "execution_count": null,
      "outputs": []
    },
    {
      "cell_type": "code",
      "metadata": {
        "id": "QOEL1XNkZgx5",
        "colab_type": "code",
        "colab": {
          "base_uri": "https://localhost:8080/",
          "height": 85
        },
        "outputId": "249d37be-6c54-4cd0-93f0-ab58faa8745f"
      },
      "source": [
        " try:\n",
        "  n=int(input(\"Enter number:\"))\n",
        "  temp=n\n",
        "  rev=0\n",
        "  while(n>0):\n",
        "    dig=n%10\n",
        "    rev=rev*10+dig\n",
        "    n=n//10\n",
        "    if(temp==rev):\n",
        "      print(\"the number is a palindrome!\")\n",
        "    else:\n",
        "      print(\"the number is not a palindrome\")  \n",
        "except:\n",
        "  print(\"can't find a file\")\n",
        "finally:\n",
        "  print(\"Finally block is executed\")"
      ],
      "execution_count": null,
      "outputs": [
        {
          "output_type": "stream",
          "text": [
            "Enter number:10\n",
            "the number is not a palindrome\n",
            "the number is not a palindrome\n",
            "Finally block is executed\n"
          ],
          "name": "stdout"
        }
      ]
    },
    {
      "cell_type": "code",
      "metadata": {
        "id": "DIzylq92Zsfr",
        "colab_type": "code",
        "colab": {}
      },
      "source": [
        "Question 5"
      ],
      "execution_count": null,
      "outputs": []
    },
    {
      "cell_type": "code",
      "metadata": {
        "id": "wsEFlHIEZt8X",
        "colab_type": "code",
        "colab": {
          "base_uri": "https://localhost:8080/",
          "height": 34
        },
        "outputId": "0e36c626-b93a-4bab-955e-5b1aece3b152"
      },
      "source": [
        " def squaresum(n) :\n",
        "  return (n * (n + 1) / 2) * (2 * n + 1) /3\n",
        "n=4\n",
        "print(squaresum(n)) ;"
      ],
      "execution_count": null,
      "outputs": [
        {
          "output_type": "stream",
          "text": [
            "30.0\n"
          ],
          "name": "stdout"
        }
      ]
    }
  ]
}