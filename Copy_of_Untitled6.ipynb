{
  "nbformat": 4,
  "nbformat_minor": 0,
  "metadata": {
    "colab": {
      "name": "Copy of Untitled6.ipynb",
      "provenance": [],
      "authorship_tag": "ABX9TyOTdRIH3eAn2OCwPUkT+5VN",
      "include_colab_link": true
    },
    "kernelspec": {
      "name": "python3",
      "display_name": "Python 3"
    }
  },
  "cells": [
    {
      "cell_type": "markdown",
      "metadata": {
        "id": "view-in-github",
        "colab_type": "text"
      },
      "source": [
        "<a href=\"https://colab.research.google.com/github/Richachowdary/python-module-2/blob/master/Copy_of_Untitled6.ipynb\" target=\"_parent\"><img src=\"https://colab.research.google.com/assets/colab-badge.svg\" alt=\"Open In Colab\"/></a>"
      ]
    },
    {
      "cell_type": "code",
      "metadata": {
        "id": "4lnPbByE5DXf",
        "colab_type": "code",
        "colab": {}
      },
      "source": [
        "Assignment 3"
      ],
      "execution_count": null,
      "outputs": []
    },
    {
      "cell_type": "code",
      "metadata": {
        "id": "86OStRkm5GAJ",
        "colab_type": "code",
        "colab": {}
      },
      "source": [
        "Question 1"
      ],
      "execution_count": null,
      "outputs": []
    },
    {
      "cell_type": "code",
      "metadata": {
        "id": "5-DnjzZX5HWK",
        "colab_type": "code",
        "colab": {
          "base_uri": "https://localhost:8080/",
          "height": 34
        },
        "outputId": "ff928554-fb37-461e-c5c2-3a2a09c8d0ba"
      },
      "source": [
        " a=20\n",
        "b=10\n",
        "if a==b:\n",
        "  print(\"equal\")\n",
        "else:\n",
        "  print(\"unequal\")"
      ],
      "execution_count": null,
      "outputs": [
        {
          "output_type": "stream",
          "text": [
            "unequal\n"
          ],
          "name": "stdout"
        }
      ]
    },
    {
      "cell_type": "code",
      "metadata": {
        "id": "M1y-Jiht5Ye_",
        "colab_type": "code",
        "colab": {}
      },
      "source": [
        "Question 2"
      ],
      "execution_count": null,
      "outputs": []
    },
    {
      "cell_type": "code",
      "metadata": {
        "id": "D_bYKbeI5iUX",
        "colab_type": "code",
        "colab": {
          "base_uri": "https://localhost:8080/",
          "height": 34
        },
        "outputId": "2309d5d5-bdda-4d25-c9a0-8bd5a1e1fe14"
      },
      "source": [
        " a=5\n",
        "b=5\n",
        "c=10\n",
        "if a==b==c:\n",
        "  print(\"All are equal\")\n",
        "elif a==b!=c:\n",
        "  print(\"Any two are equal\")\n",
        "else:\n",
        "  print(\"All are unequal\")"
      ],
      "execution_count": null,
      "outputs": [
        {
          "output_type": "stream",
          "text": [
            "Any two are equal\n"
          ],
          "name": "stdout"
        }
      ]
    },
    {
      "cell_type": "code",
      "metadata": {
        "id": "_Dwrqomr5j9U",
        "colab_type": "code",
        "colab": {}
      },
      "source": [
        "Question 3"
      ],
      "execution_count": null,
      "outputs": []
    },
    {
      "cell_type": "code",
      "metadata": {
        "id": "eJtT7OKz5mMb",
        "colab_type": "code",
        "colab": {
          "base_uri": "https://localhost:8080/",
          "height": 51
        },
        "outputId": "1054e0a3-7820-44fe-bddc-4ae870ba2a5a"
      },
      "source": [
        " a=2\n",
        "b=3\n",
        "res=a+b\n",
        "print('res is:')\n",
        "if res > 5:\n",
        "  print(\"result is greather than 5:\",res)\n",
        "elif res < 5:\n",
        "  print(\"result is lesser than 5:\",res)\n",
        "else:\n",
        "  print(\"result is equal to 5:\",res)"
      ],
      "execution_count": null,
      "outputs": [
        {
          "output_type": "stream",
          "text": [
            "res is:\n",
            "result is equal to 5: 5\n"
          ],
          "name": "stdout"
        }
      ]
    },
    {
      "cell_type": "code",
      "metadata": {
        "id": "7ygpJL1Y5rim",
        "colab_type": "code",
        "colab": {}
      },
      "source": [
        "Question 4"
      ],
      "execution_count": null,
      "outputs": []
    },
    {
      "cell_type": "code",
      "metadata": {
        "id": "F1KjK7yC5txh",
        "colab_type": "code",
        "colab": {
          "base_uri": "https://localhost:8080/",
          "height": 51
        },
        "outputId": "6ef79486-8deb-44c2-d627-8750746ad0f8"
      },
      "source": [
        " a=int(input('enter value of a:'))\n",
        "if a > 35:\n",
        "  print(\"your number is greather than 35\")\n",
        "else:\n",
        "  print(\"your number is less than 35\")"
      ],
      "execution_count": null,
      "outputs": [
        {
          "output_type": "stream",
          "text": [
            "enter value of a:20\n",
            "your number is less than 35\n"
          ],
          "name": "stdout"
        }
      ]
    },
    {
      "cell_type": "code",
      "metadata": {
        "id": "YUC22uqx5xir",
        "colab_type": "code",
        "colab": {}
      },
      "source": [
        "Question 5"
      ],
      "execution_count": null,
      "outputs": []
    },
    {
      "cell_type": "code",
      "metadata": {
        "id": "x13cTeGu5zTS",
        "colab_type": "code",
        "colab": {
          "base_uri": "https://localhost:8080/",
          "height": 34
        },
        "outputId": "6529bdb5-0580-4c76-808b-2656399113a3"
      },
      "source": [
        " def max_of_two( x, y ):\n",
        "  if x > y:\n",
        "    return x\n",
        "  return y\n",
        "def max_of_three( x, y, z ):\n",
        "  return max_of_two( x, max_of_two( y, z) )\n",
        "print(max_of_three(3, 6, -5))"
      ],
      "execution_count": null,
      "outputs": [
        {
          "output_type": "stream",
          "text": [
            "6\n"
          ],
          "name": "stdout"
        }
      ]
    }
  ]
}